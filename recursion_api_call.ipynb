{
 "cells": [
  {
   "cell_type": "code",
   "execution_count": 0,
   "metadata": {
    "application/vnd.databricks.v1+cell": {
     "cellMetadata": {},
     "inputWidgets": {},
     "nuid": "529ba1ed-6038-4ebd-8eeb-489a0f021c06",
     "showTitle": false,
     "title": ""
    }
   },
   "outputs": [],
   "source": [
    "# recursive function to calculate factorial:\n",
    "def factorial(n):\n",
    "    if n == 0:\n",
    "        return 1\n",
    "    else:\n",
    "        return n * factorial(n-1)"
   ]
  },
  {
   "cell_type": "code",
   "execution_count": 0,
   "metadata": {
    "application/vnd.databricks.v1+cell": {
     "cellMetadata": {},
     "inputWidgets": {},
     "nuid": "d6daf418-e48a-41c0-9c18-2f259aa42f00",
     "showTitle": false,
     "title": ""
    }
   },
   "outputs": [],
   "source": [
    "# Comparison between recursive and iterative approaches to calculate factorial:\n",
    "\n",
    "# Recursive approach\n",
    "def factorial_recursive(n):\n",
    "    if n == 0:\n",
    "        return 1\n",
    "    else:\n",
    "        return n * factorial_recursive(n - 1)\n",
    "\n",
    "# Iterative approach\n",
    "def factorial_iterative(n):\n",
    "    result = 1\n",
    "    for i in range(1, n + 1):\n",
    "        result *= i\n",
    "    return result\n"
   ]
  },
  {
   "cell_type": "code",
   "execution_count": 0,
   "metadata": {
    "application/vnd.databricks.v1+cell": {
     "cellMetadata": {
      "byteLimit": 2048000,
      "rowLimit": 10000
     },
     "inputWidgets": {},
     "nuid": "285107a8-7b93-4905-aaab-6f8b015ed352",
     "showTitle": false,
     "title": ""
    }
   },
   "outputs": [
    {
     "output_type": "display_data",
     "data": {
      "text/html": [
       "<style scoped>\n",
       "  .ansiout {\n",
       "    display: block;\n",
       "    unicode-bidi: embed;\n",
       "    white-space: pre-wrap;\n",
       "    word-wrap: break-word;\n",
       "    word-break: break-all;\n",
       "    font-family: \"Menlo\", \"Monaco\", \"Consolas\", \"Ubuntu Mono\", \"Source Code Pro\", monospace;\n",
       "    font-size: 13px;\n",
       "    color: #555;\n",
       "    margin-left: 4px;\n",
       "    line-height: 19px;\n",
       "  }\n",
       "</style>\n",
       "<div class=\"ansiout\">Received response 1, processing...\n",
       "Processing failed, retrying...\n",
       "Received response 7, processing complete!\n",
       "Final response: 7\n",
       "</div>"
      ]
     },
     "metadata": {
      "application/vnd.databricks.v1+output": {
       "addedWidgets": {},
       "arguments": {},
       "data": "<div class=\"ansiout\">Received response 1, processing...\nProcessing failed, retrying...\nReceived response 7, processing complete!\nFinal response: 7\n</div>",
       "datasetInfos": [],
       "metadata": {},
       "removedWidgets": [],
       "type": "html"
      }
     },
     "output_type": "display_data"
    }
   ],
   "source": [
    "# Importing random and logging module\n",
    "import random\n",
    "import logging\n",
    "# Setting logger\n",
    "logger = logging.getLogger(\"error\")\n",
    "\n",
    "class ApiRequest:\n",
    "  # generate_api_response is a functions which is used to\n",
    "  # 1. return a random number from 0 to 10\n",
    "  # 2. it is used to simulate api response\n",
    "  @staticmethod\n",
    "  def generate_api_response():\n",
    "    response = random.randint(0, 10)\n",
    "    return response\n",
    "\n",
    "  # process_api_response is a functions which is used to\n",
    "  # 1. compare the response \n",
    "  # 2. if the response is less than 5 then it will return none\n",
    "  # 3. if the response is greater then or equal to 5 then it will return the response\n",
    "  @staticmethod\n",
    "  def process_api_response(response):\n",
    "    if response < 5:\n",
    "      logger.warning(f\"Received response {response}, processing...\")\n",
    "      return None\n",
    "    else:\n",
    "      logger.warning(f\"Received response {response}, processing complete!\")\n",
    "      return response\n",
    "\n",
    "  # make_api_request is a functions which is used to\n",
    "  # 1. get the response from generate_api_response function and send it to process_api_response function\n",
    "  # 2. if the response is none then recursion will happen by calling make_api_request again\n",
    "  @staticmethod\n",
    "  def make_api_request():\n",
    "    response = ApiRequest.generate_api_response()\n",
    "    processed_response = ApiRequest.process_api_response(response)\n",
    "    if processed_response is None:\n",
    "      logger.warning(\"Processing failed, retrying...\")\n",
    "      return ApiRequest.make_api_request()\n",
    "    else:\n",
    "      return processed_response\n",
    "\n",
    "# Initialting API Request by calling make_api_request function\n",
    "final_response = ApiRequest.make_api_request()\n",
    "print(\"Final response:\", final_response)"
   ]
  }
 ],
 "metadata": {
  "application/vnd.databricks.v1+notebook": {
   "dashboards": [],
   "language": "python",
   "notebookMetadata": {
    "pythonIndentUnit": 2
   },
   "notebookName": "recursion_api_call",
   "widgets": {}
  }
 },
 "nbformat": 4,
 "nbformat_minor": 0
}
